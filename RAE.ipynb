{
 "cells": [
  {
   "cell_type": "code",
   "execution_count": null,
   "metadata": {},
   "outputs": [],
   "source": [
    "import keras\n",
    "from keras import backend as K\n",
    "from keras.models import Sequential, Model\n",
    "from tensorflow.contrib.keras import layers\n",
    "from keras.layers import Input, LSTM, RepeatVector\n",
    "from keras.layers.core import Flatten, Dense, Dropout, Lambda\n",
    "from keras.optimizers import SGD, RMSprop, Adam\n",
    "from keras import objectives\n",
    "from keras import regularizers\n",
    "from sklearn.linear_model import Lasso\n",
    "\n",
    "data = np.expand_dims(sub_data, axis=1)\n",
    "data = np.reshape(data, (793*7,405 , 59421))\n",
    "latent_dim = [32]\n",
    "\n",
    "input_dim = data.shape[-1] # 13\n",
    "timesteps =  data.shape[1]# 3\n",
    "\n",
    "inputs = Input(shape=(timesteps, input_dim,))\n",
    "layer1 = Dense(128, activation='tanh', activity_regularizer=regularizers.l1(1*10e-7), kernel_regularizer=regularizers.l2(1*10e-4))#\n",
    "encoded = layer1(inputs)\n",
    "encoded = LSTM(64,return_sequences=True, activation='tanh', activity_regularizer=regularizers.l1(1*10e-7), kernel_regularizer=regularizers.l2(1*10e-4))(encoded)\n",
    "encoded = LSTM(32,return_sequences=True, activation='tanh', activity_regularizer=regularizers.l1(1*10e-7), kernel_regularizer=regularizers.l2(1*10e-4))(encoded)\n",
    "\n",
    "encoder = Model(inputs, encoded)\n",
    "encoder.summary()\n",
    "\n",
    "inputs = Input(shape=(timesteps, 32,))\n",
    "decoded = LSTM(64, return_sequences=True,activation='tanh')(inputs)\n",
    "decoded = LSTM(128, return_sequences=True,activation='tanh')(decoded)\n",
    "outputs = Dense(input_dim, activation='tanh')(decoded)\n",
    "\n",
    "\n",
    "decoder = Model(inputs, outputs)\n",
    "decoder.summary()\n",
    "# model for RAE\n",
    "inputs = Input(shape=(timesteps, input_dim,))\n",
    "outputs = encoder(inputs)\n",
    "outputs = decoder(outputs)\n",
    "sequence_autoencoder = Model(inputs, outputs)\n",
    "\n",
    "# autoencoder = Model(inputs, decoded)\n",
    "\n",
    "sequence_autoencoder.compile(optimizer='adam', loss='mse')\n",
    "sequence_autoencoder.summary()\n",
    "sequence_autoencoder.fit(data, data, epochs=1, batch_size =1)"
   ]
  }
 ],
 "metadata": {
  "kernelspec": {
   "display_name": "Python 3",
   "language": "python",
   "name": "python3"
  },
  "language_info": {
   "codemirror_mode": {
    "name": "ipython",
    "version": 3
   },
   "file_extension": ".py",
   "mimetype": "text/x-python",
   "name": "python",
   "nbconvert_exporter": "python",
   "pygments_lexer": "ipython3",
   "version": "3.5.2"
  }
 },
 "nbformat": 4,
 "nbformat_minor": 2
}
